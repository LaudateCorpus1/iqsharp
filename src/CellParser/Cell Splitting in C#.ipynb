{
 "cells": [
  {
   "cell_type": "code",
   "execution_count": 1,
   "id": "anonymous-cleveland",
   "metadata": {},
   "outputs": [
    {
     "data": {
      "text/html": [
       "\r\n",
       "<div>\r\n",
       "    <div id='dotnet-interactive-this-cell-44836.Microsoft.DotNet.Interactive.Http.HttpPort' style='display: none'>\r\n",
       "        The below script needs to be able to find the current output cell; this is an easy method to get it.\r\n",
       "    </div>\r\n",
       "    <script type='text/javascript'>\r\n",
       "async function probeAddresses(probingAddresses) {\r\n",
       "    function timeout(ms, promise) {\r\n",
       "        return new Promise(function (resolve, reject) {\r\n",
       "            setTimeout(function () {\r\n",
       "                reject(new Error('timeout'))\r\n",
       "            }, ms)\r\n",
       "            promise.then(resolve, reject)\r\n",
       "        })\r\n",
       "    }\r\n",
       "\r\n",
       "    if (Array.isArray(probingAddresses)) {\r\n",
       "        for (let i = 0; i < probingAddresses.length; i++) {\r\n",
       "\r\n",
       "            let rootUrl = probingAddresses[i];\r\n",
       "\r\n",
       "            if (!rootUrl.endsWith('/')) {\r\n",
       "                rootUrl = `${rootUrl}/`;\r\n",
       "            }\r\n",
       "\r\n",
       "            try {\r\n",
       "                let response = await timeout(1000, fetch(`${rootUrl}discovery`, {\r\n",
       "                    method: 'POST',\r\n",
       "                    cache: 'no-cache',\r\n",
       "                    mode: 'cors',\r\n",
       "                    timeout: 1000,\r\n",
       "                    headers: {\r\n",
       "                        'Content-Type': 'text/plain'\r\n",
       "                    },\r\n",
       "                    body: probingAddresses[i]\r\n",
       "                }));\r\n",
       "\r\n",
       "                if (response.status == 200) {\r\n",
       "                    return rootUrl;\r\n",
       "                }\r\n",
       "            }\r\n",
       "            catch (e) { }\r\n",
       "        }\r\n",
       "    }\r\n",
       "}\r\n",
       "\r\n",
       "function loadDotnetInteractiveApi() {\r\n",
       "    probeAddresses([\"http://192.168.86.41:1001/\", \"http://100.64.50.71:1001/\", \"http://172.30.144.1:1001/\", \"http://172.23.128.1:1001/\", \"http://172.29.48.1:1001/\", \"http://172.20.64.1:1001/\", \"http://172.17.224.1:1001/\", \"http://127.0.0.1:1001/\"])\r\n",
       "        .then((root) => {\r\n",
       "        // use probing to find host url and api resources\r\n",
       "        // load interactive helpers and language services\r\n",
       "        let dotnetInteractiveRequire = require.config({\r\n",
       "        context: '44836.Microsoft.DotNet.Interactive.Http.HttpPort',\r\n",
       "                paths:\r\n",
       "            {\r\n",
       "                'dotnet-interactive': `${root}resources`\r\n",
       "                }\r\n",
       "        }) || require;\r\n",
       "\r\n",
       "            window.dotnetInteractiveRequire = dotnetInteractiveRequire;\r\n",
       "\r\n",
       "            window.configureRequireFromExtension = function(extensionName, extensionCacheBuster) {\r\n",
       "                let paths = {};\r\n",
       "                paths[extensionName] = `${root}extensions/${extensionName}/resources/`;\r\n",
       "                \r\n",
       "                let internalRequire = require.config({\r\n",
       "                    context: extensionCacheBuster,\r\n",
       "                    paths: paths,\r\n",
       "                    urlArgs: `cacheBuster=${extensionCacheBuster}`\r\n",
       "                    }) || require;\r\n",
       "\r\n",
       "                return internalRequire\r\n",
       "            };\r\n",
       "        \r\n",
       "            dotnetInteractiveRequire([\r\n",
       "                    'dotnet-interactive/dotnet-interactive'\r\n",
       "                ],\r\n",
       "                function (dotnet) {\r\n",
       "                    dotnet.init(window);\r\n",
       "                },\r\n",
       "                function (error) {\r\n",
       "                    console.log(error);\r\n",
       "                }\r\n",
       "            );\r\n",
       "        })\r\n",
       "        .catch(error => {console.log(error);});\r\n",
       "    }\r\n",
       "\r\n",
       "// ensure `require` is available globally\r\n",
       "if ((typeof(require) !==  typeof(Function)) || (typeof(require.config) !== typeof(Function))) {\r\n",
       "    let require_script = document.createElement('script');\r\n",
       "    require_script.setAttribute('src', 'https://cdnjs.cloudflare.com/ajax/libs/require.js/2.3.6/require.min.js');\r\n",
       "    require_script.setAttribute('type', 'text/javascript');\r\n",
       "    \r\n",
       "    \r\n",
       "    require_script.onload = function() {\r\n",
       "        loadDotnetInteractiveApi();\r\n",
       "    };\r\n",
       "\r\n",
       "    document.getElementsByTagName('head')[0].appendChild(require_script);\r\n",
       "}\r\n",
       "else {\r\n",
       "    loadDotnetInteractiveApi();\r\n",
       "}\r\n",
       "\r\n",
       "    </script>\r\n",
       "</div>"
      ]
     },
     "metadata": {},
     "output_type": "display_data"
    }
   ],
   "source": [
    "#r \"bin\\Debug\\netstandard2.1\\publish\\CellParser.dll\""
   ]
  },
  {
   "cell_type": "code",
   "execution_count": 2,
   "id": "clinical-world",
   "metadata": {},
   "outputs": [
    {
     "data": {
      "text/html": [
       "<table><thead><tr><th>Parts</th><th>GloballyOpenNamespaces</th></tr></thead><tbody><tr><td><div class=\"dni-plaintext\">[ Microsoft.Quantum.IQSharp.CellParser.CellParser+Declaration: Declaration { Contents = operation Bar() : Unit {\r\n",
       "            Message(&quot;hi&quot;);\r\n",
       "        }, Name = Bar, Namespace = , OpenNamespaces = System.Collections.Generic.List`1[System.ValueTuple`2[System.String,System.String]] } ]</div></td><td><div class=\"dni-plaintext\">[ ( Microsoft.Quantum.Intrinsic, &lt;null&gt; ) ]</div></td></tr></tbody></table>"
      ]
     },
     "execution_count": 2,
     "metadata": {},
     "output_type": "execute_result"
    }
   ],
   "source": [
    "Microsoft.Quantum.IQSharp.CellParser.CellParser.SplitCell(@\"\n",
    "    open Microsoft.Quantum.Intrinsic;\n",
    "        operation Bar() : Unit {\n",
    "            Message(\"\"hi\"\");\n",
    "        }\n",
    "\")"
   ]
  },
  {
   "cell_type": "code",
   "execution_count": 3,
   "id": "human-guatemala",
   "metadata": {},
   "outputs": [
    {
     "data": {
      "text/html": [
       "<table><thead><tr><th>Parts</th><th>GloballyOpenNamespaces</th></tr></thead><tbody><tr><td><div class=\"dni-plaintext\">[ Microsoft.Quantum.IQSharp.CellParser.CellParser+Declaration: Declaration { Contents = operation Bar() : Unit {\r\n",
       "            Message(&quot;hi&quot;);\r\n",
       "        }, Name = Bar, Namespace = , OpenNamespaces = System.Collections.Generic.List`1[System.ValueTuple`2[System.String,System.String]] }, Microsoft.Quantum.IQSharp.CellParser.CellParser+Declaration: Declaration { Contents = newtype MyBats = (Aaa : Int);, Name = MyBats, Namespace = , OpenNamespaces = System.Collections.Generic.List`1[System.ValueTuple`2[System.String,System.String]] } ]</div></td><td><div class=\"dni-plaintext\">[ ( Microsoft.Quantum.Intrinsic, &lt;null&gt; ) ]</div></td></tr></tbody></table>"
      ]
     },
     "execution_count": 3,
     "metadata": {},
     "output_type": "execute_result"
    }
   ],
   "source": [
    "Microsoft.Quantum.IQSharp.CellParser.CellParser.SplitCell(@\"\n",
    "    open Microsoft.Quantum.Intrinsic;\n",
    "        operation Bar() : Unit {\n",
    "            Message(\"\"hi\"\");\n",
    "        }\n",
    "        \n",
    "    newtype MyBats = (Aaa : Int);\n",
    "\")"
   ]
  },
  {
   "cell_type": "code",
   "execution_count": 3,
   "id": "according-rebecca",
   "metadata": {},
   "outputs": [
    {
     "data": {
      "text/plain": [
       "// Callable declaration in namespace <default snippet>\n",
       "// Open statements in effect for declaration:\n",
       "//     open Nope;\r\n",
       "function Blaz() : Unit {\r\n",
       "    }\n",
       "// ---\n",
       "// Magic command invocation:\n",
       "%simulate Bats\n",
       "// ---\n",
       "// Callable declaration in namespace Foo.Baz\n",
       "// Open statements in effect for declaration:\n",
       "//     open Microsoft.Quantum.Intrinsic;\r\n",
       "operation Bar() : Unit {\r\n",
       "            Message(\"hi\");\r\n",
       "        }\n",
       "// ---\n",
       "// Globally opened namespaces after splitting cells:\n",
       "//     open Nope;"
      ]
     },
     "execution_count": 3,
     "metadata": {},
     "output_type": "execute_result"
    }
   ],
   "source": [
    "Microsoft.Quantum.IQSharp.CellParser.CellParser.SplitCell(@\"\n",
    "    open Nope;\n",
    "    \n",
    "    function Blaz() : Unit {\n",
    "    }\n",
    "    \n",
    "    %simulate Bats\n",
    "    \n",
    "    namespace Foo.Baz {\n",
    "        open Microsoft.Quantum.Intrinsic;\n",
    "        operation Bar() : Unit {\n",
    "            Message(\"\"hi\"\");\n",
    "        }\n",
    "    }\n",
    "\").ToDebugString()"
   ]
  },
  {
   "cell_type": "markdown",
   "id": "incident-governor",
   "metadata": {},
   "source": [
    "How do broken cells work?"
   ]
  },
  {
   "cell_type": "code",
   "execution_count": 9,
   "id": "extended-acquisition",
   "metadata": {},
   "outputs": [
    {
     "name": "stderr",
     "output_type": "stream",
     "text": [
      "line 7:0 mismatched input '<EOF>' expecting {'is', BraceLeft}\r\n"
     ]
    },
    {
     "name": "stdout",
     "output_type": "stream",
     "text": [
      "SyntaxError { Output = System.IO.TextWriter+SyncTextWriter, Recognizer = IQSharpCellParser, OffendingSymbol = [@16,65:64='<EOF>',<-1>,7:0], Line = 7, CharPositionInLine = 0, Msg = mismatched input '<EOF>' expecting {'is', BraceLeft}, Exception = Antlr4.Runtime.InputMismatchException: Exception of type 'Antlr4.Runtime.InputMismatchException' was thrown.\r\n",
      "   at Antlr4.Runtime.DefaultErrorStrategy.Sync(Parser recognizer)\r\n",
      "   at IQSharpCellParser.callableDeclaration() in C:\\Users\\cgran\\source\\repos\\microsoft\\iqsharp\\src\\CellParser\\grammar\\IQSharpCellParser.cs:line 1177 }\r\n"
     ]
    },
    {
     "data": {
      "text/plain": [
       "// Callable declaration in namespace <default snippet>\n",
       "// Open statements in effect for declaration:\n",
       "//     open Nope;\r\n",
       "function Blaz() : Unit\n",
       "// ---\n",
       "// Magic command invocation:\n",
       "%simulate Bats\n",
       "// ---\n",
       "// Callable declaration in namespace Foo.Baz\n",
       "// Open statements in effect for declaration:\n",
       "//     open Microsoft.Quantum.Intrinsic;\r\n",
       "operation Bar() : Unit {\r\n",
       "            Message(\"hi\");\r\n",
       "        }\n",
       "// ---\n",
       "// Globally opened namespaces after splitting cells:\n",
       "//     open Nope;"
      ]
     },
     "execution_count": 9,
     "metadata": {},
     "output_type": "execute_result"
    }
   ],
   "source": [
    "Microsoft.Quantum.IQSharp.CellParser.CellParser.SplitCell(@\"\n",
    "    open Nope;\n",
    "    \n",
    "    function Blaz() : Unit {\n",
    "    }\n",
    "    \n",
    "    %simulate Bats\n",
    "    \n",
    "    namespace Foo.Baz {\n",
    "        open Microsoft.Quantum.Intrinsic;\n",
    "        operation Bar() : Unit {\n",
    "            Message(\"\"hi\"\");\n",
    "        }\n",
    "    }\n",
    "        \n",
    "\").ToDebugString()"
   ]
  },
  {
   "cell_type": "code",
   "execution_count": null,
   "id": "touched-organ",
   "metadata": {},
   "outputs": [],
   "source": []
  }
 ],
 "metadata": {
  "kernelspec": {
   "display_name": ".NET (C#)",
   "language": "C#",
   "name": ".net-csharp"
  },
  "language_info": {
   "file_extension": ".cs",
   "mimetype": "text/x-csharp",
   "name": "C#",
   "pygments_lexer": "csharp",
   "version": "8.0"
  }
 },
 "nbformat": 4,
 "nbformat_minor": 5
}
