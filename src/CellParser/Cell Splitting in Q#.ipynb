{
 "cells": [
  {
   "cell_type": "code",
   "execution_count": null,
   "id": "conservative-questionnaire",
   "metadata": {},
   "outputs": [],
   "source": [
    "%config core.expandErrorMessages = true\n",
    "%config core.showHints = true"
   ]
  },
  {
   "cell_type": "code",
   "execution_count": null,
   "id": "southwest-cycling",
   "metadata": {},
   "outputs": [],
   "source": [
    "%attach"
   ]
  },
  {
   "cell_type": "code",
   "execution_count": 1,
   "id": "cathedral-quantity",
   "metadata": {},
   "outputs": [
    {
     "name": "stdout",
     "output_type": "stream",
     "text": [
      "42\r\n"
     ]
    },
    {
     "data": {
      "application/x-qsharp-data": "{\"Results\":[{\"Status\":\"ok\",\"Output\":{\"Diagnostics\":[],\"NewDeclarations\":[\"Foo\"],\"Sources\":{\"file:///C:/SNIPPET.Foo.qs\":\"namespace SNIPPET { open Microsoft.Quantum.Intrinsic; open Microsoft.Quantum.Canon;\\nfunction Foo() : Unit {\\r\\n    Message(\\\"42\\\");\\r\\n}\\n}\"}}},{\"Status\":\"ok\",\"Output\":{\"@type\":\"tuple\"}},{\"Status\":\"error\",\"Output\":{\"Diagnostics\":[{\"range\":{\"start\":{\"line\":0,\"character\":17},\"end\":{\"line\":0,\"character\":20}},\"severity\":1,\"code\":\"QS6005\",\"source\":\"C:\\\\Baz.Bar.qs\",\"message\":\"No type with the name \\\"Uni\\\" exists in any of the open namespaces.\"}],\"NewDeclarations\":null,\"Sources\":{\"file:///C:/Baz.Bar.qs\":\"namespace Baz { open Microsoft.Quantum.Intrinsic;\\nfunction Bar() : Uni {\\r\\n        Message(\\\"42\\\");\\r\\n    }\\n}\",\"file:///C:/SNIPPET.Foo.qs\":\"namespace SNIPPET { open Microsoft.Quantum.Intrinsic; open Microsoft.Quantum.Canon;\\nfunction Foo() : Unit {\\r\\n    Message(\\\"42\\\");\\r\\n}\\n}\"}}}]}",
      "text/html": [
       "\r\n",
       "                    <h4>Compiled declarations:</h4>\r\n",
       "                    <ul>\r\n",
       "                    <li>Foo</li>\r\n",
       "                    </ul>\r\n",
       "                <hr>\n",
       "<strong>%simulate Foo</strong>: <pre>()</pre><hr>\n",
       "\r\n",
       "                    <h4>Errors and warnings:</h4>\r\n",
       "                    <ul>\r\n",
       "                    \r\n",
       "                <details open>\r\n",
       "                    <summary>\r\n",
       "                        <strong>error QS6005:</strong>\r\n",
       "                        No type with the name \"Uni\" exists in any of the open namespaces.\r\n",
       "                    </summary>\r\n",
       "                    \r\n",
       "                    <pre><code>function Bar() : <span style=\"font-weight: bold; text-decoration: underline wavy red;\">Uni</span> {\n",
       "        Message(\"42\");\n",
       "    }</code></pre>\r\n",
       "                \r\n",
       "                    <span style=\"font-size: 10px;\"><p>If you meant to use a user-defined type, you may need to <code>open</code> an additional namespace to do so. Check <a href=\"https://docs.microsoft.com/qsharp/api/qsharp\">https://docs.microsoft.com/qsharp/api/qsharp</a> for a listing of all namespaces available in the Q# standard libraries.</p>\n",
       "</span><br>\r\n",
       "                </details>\r\n",
       "            \r\n",
       "                    </ul>\r\n",
       "                "
      ],
      "text/plain": [
       "AggregateResults { Results = System.Collections.Generic.List`1[Microsoft.Jupyter.Core.ExecutionResult] }"
      ]
     },
     "execution_count": 1,
     "metadata": {},
     "output_type": "execute_result"
    }
   ],
   "source": [
    "function Foo() : Unit {\n",
    "    Message(\"42\");\n",
    "}\n",
    "\n",
    "%simulate Foo\n",
    "\n",
    "namespace Baz {\n",
    "    open Microsoft.Quantum.Intrinsic;\n",
    "\n",
    "    function Bar() : Uni {\n",
    "        Message(\"42\");\n",
    "    }\n",
    "}\n",
    "\n",
    "%simulate Baz.Bar"
   ]
  },
  {
   "cell_type": "code",
   "execution_count": 2,
   "id": "natural-belgium",
   "metadata": {},
   "outputs": [
    {
     "data": {
      "application/x-qsharp-data": "{\"Diagnostics\":[{\"range\":{\"start\":{\"line\":1,\"character\":10},\"end\":{\"line\":1,\"character\":23}},\"severity\":2,\"code\":\"QS3306\",\"source\":\"C:\\\\SNIPPET.UseOldSyntax.qs\",\"message\":\"Deprecated syntax. Parentheses here are no longer required and will not be supported in the future.\"},{\"range\":{\"start\":{\"line\":1,\"character\":4},\"end\":{\"line\":1,\"character\":9}},\"severity\":2,\"code\":\"QS3307\",\"source\":\"C:\\\\SNIPPET.UseOldSyntax.qs\",\"message\":\"The \\\"using\\\" keyword has been replaced with \\\"use\\\", and qubits may now be allocated without a block. Consider \\\"use q = Qubit();\\\" or \\\"use q = Qubit() { ... }\\\".\"}],\"NewDeclarations\":[\"UseOldSyntax\"],\"Sources\":{\"file:///C:/SNIPPET.UseOldSyntax.qs\":\"namespace SNIPPET { open Microsoft.Quantum.Intrinsic; open Microsoft.Quantum.Canon;\\noperation UseOldSyntax() : Unit {\\r\\n    using (q = Qubit()) {\\r\\n    \\r\\n    }\\r\\n}\\n}\",\"file:///C:/SNIPPET.Foo.qs\":\"namespace SNIPPET { open Microsoft.Quantum.Intrinsic; open Microsoft.Quantum.Canon;\\nfunction Foo() : Unit {\\r\\n    Message(\\\"42\\\");\\r\\n}\\n}\"}}",
      "text/html": [
       "\r\n",
       "                    <h4>Compiled declarations:</h4>\r\n",
       "                    <ul>\r\n",
       "                    <li>UseOldSyntax</li>\r\n",
       "                    </ul>\r\n",
       "                \r\n",
       "                    <h4>Errors and warnings:</h4>\r\n",
       "                    <ul>\r\n",
       "                    \r\n",
       "                <details open>\r\n",
       "                    <summary>\r\n",
       "                        <strong>warning QS3306:</strong>\r\n",
       "                        Deprecated syntax. Parentheses here are no longer required and will not be supported in the future.\r\n",
       "                    </summary>\r\n",
       "                    \r\n",
       "                    <pre><code>operation UseOldSyntax() : Unit {\n",
       "    using <span style=\"font-weight: bold; text-decoration: underline wavy orange;\">(q = Qubit())</span> {\n",
       "    \n",
       "    }\n",
       "}</code></pre>\r\n",
       "                \r\n",
       "                    <span style=\"font-size: 10px;\"><p>For more information about the new <code>use</code> and <code>borrow</code> statements, check out <a href=\"https://docs.microsoft.com/azure/quantum/user-guide/language/statements/quantummemorymanagement#use-statement\">https://docs.microsoft.com/azure/quantum/user-guide/language/statements/quantummemorymanagement#use-statement</a>.</p>\n",
       "</span><br>\r\n",
       "                </details>\r\n",
       "            \n",
       "\r\n",
       "                <details open>\r\n",
       "                    <summary>\r\n",
       "                        <strong>warning QS3307:</strong>\r\n",
       "                        The \"using\" keyword has been replaced with \"use\", and qubits may now be allocated without a block. Consider \"use q = Qubit();\" or \"use q = Qubit() { ... }\".\r\n",
       "                    </summary>\r\n",
       "                    \r\n",
       "                    <pre><code>operation UseOldSyntax() : Unit {\n",
       "    <span style=\"font-weight: bold; text-decoration: underline wavy orange;\">using</span> (q = Qubit()) {\n",
       "    \n",
       "    }\n",
       "}</code></pre>\r\n",
       "                \r\n",
       "                    <span style=\"font-size: 10px;\"><p>For more information about the new <code>use</code> and <code>borrow</code> statements, check out <a href=\"https://docs.microsoft.com/azure/quantum/user-guide/language/statements/quantummemorymanagement#use-statement\">https://docs.microsoft.com/azure/quantum/user-guide/language/statements/quantummemorymanagement#use-statement</a>.</p>\n",
       "</span><br>\r\n",
       "                </details>\r\n",
       "            \r\n",
       "                    </ul>\r\n",
       "                "
      ],
      "text/plain": [
       "CompilationResult { Diagnostics = System.Collections.Generic.List`1[Microsoft.VisualStudio.LanguageServer.Protocol.Diagnostic], NewDeclarations = System.Collections.Generic.List`1[System.String], Sources = System.Collections.Immutable.ImmutableDictionary`2[System.Uri,System.String] }"
      ]
     },
     "execution_count": 2,
     "metadata": {},
     "output_type": "execute_result"
    }
   ],
   "source": [
    "operation UseOldSyntax() : Unit {\n",
    "    using (q = Qubit()) {\n",
    "    \n",
    "    }\n",
    "}"
   ]
  },
  {
   "cell_type": "code",
   "execution_count": 3,
   "id": "creative-variety",
   "metadata": {},
   "outputs": [
    {
     "data": {
      "application/x-qsharp-data": "{\"Diagnostics\":[{\"range\":{\"start\":{\"line\":1,\"character\":4},\"end\":{\"line\":1,\"character\":7}},\"severity\":1,\"code\":\"QS6314\",\"source\":\"C:\\\\SNIPPET.SetInAdjointable.qs\",\"message\":\"Auto-generation of inversions is not supported for operations that contain set-statements.\"}],\"NewDeclarations\":null,\"Sources\":{\"file:///C:/SNIPPET.UseOldSyntax.qs\":\"namespace SNIPPET { open Microsoft.Quantum.Intrinsic; open Microsoft.Quantum.Canon;\\noperation UseOldSyntax() : Unit {\\r\\n    using (q = Qubit()) {\\r\\n    \\r\\n    }\\r\\n}\\n}\",\"file:///C:/SNIPPET.SetInAdjointable.qs\":\"namespace SNIPPET { open Microsoft.Quantum.Intrinsic; open Microsoft.Quantum.Canon;\\noperation SetInAdjointable(q : Qubit) : Unit is Adj {\\r\\n    set _ = 1;\\r\\n}\\n}\",\"file:///C:/SNIPPET.Foo.qs\":\"namespace SNIPPET { open Microsoft.Quantum.Intrinsic; open Microsoft.Quantum.Canon;\\nfunction Foo() : Unit {\\r\\n    Message(\\\"42\\\");\\r\\n}\\n}\"}}",
      "text/html": [
       "\r\n",
       "                    <h4>Errors and warnings:</h4>\r\n",
       "                    <ul>\r\n",
       "                    \r\n",
       "                <details open>\r\n",
       "                    <summary>\r\n",
       "                        <strong>error QS6314:</strong>\r\n",
       "                        Auto-generation of inversions is not supported for operations that contain set-statements.\r\n",
       "                    </summary>\r\n",
       "                    \r\n",
       "                    <pre><code>operation SetInAdjointable(q : Qubit) : Unit is Adj {\n",
       "    <span style=\"font-weight: bold; text-decoration: underline wavy red;\">set</span> _ = 1;\n",
       "}</code></pre>\r\n",
       "                \r\n",
       "                    <span style=\"font-size: 10px;\"><p>In operations with automatically generated adjoints (for example, operations declared with <code>is Adj</code> and no explicit adjoint body), the <code>set</code> statement cannot be used. For more about automatically generated adjoint specializations, please see <a href=\"https://docs.microsoft.com/qsharp/api/qsharp/programstructure/specializationdeclarations#auto-generation-directives\">https://docs.microsoft.com/qsharp/api/qsharp/programstructure/specializationdeclarations#auto-generation-directives</a>.</p>\n",
       "</span><br>\r\n",
       "                </details>\r\n",
       "            \r\n",
       "                    </ul>\r\n",
       "                "
      ],
      "text/plain": [
       "CompilationResult { Diagnostics = System.Collections.Generic.List`1[Microsoft.VisualStudio.LanguageServer.Protocol.Diagnostic], NewDeclarations = , Sources = System.Collections.Immutable.ImmutableDictionary`2[System.Uri,System.String] }"
      ]
     },
     "execution_count": 3,
     "metadata": {},
     "output_type": "execute_result"
    }
   ],
   "source": [
    "operation SetInAdjointable(q : Qubit) : Unit is Adj {\n",
    "    set _ = 1;\n",
    "}"
   ]
  },
  {
   "cell_type": "code",
   "execution_count": 4,
   "id": "funded-senate",
   "metadata": {},
   "outputs": [
    {
     "data": {
      "application/x-qsharp-data": "{\"Results\":[{\"Status\":\"ok\",\"Output\":\"true\"},{\"Status\":\"ok\",\"Output\":\"false\"},{\"Status\":\"error\",\"Output\":{\"Diagnostics\":[{\"range\":{\"start\":{\"line\":1,\"character\":4},\"end\":{\"line\":1,\"character\":10}},\"severity\":1,\"code\":\"QS5022\",\"source\":\"C:\\\\SNIPPET.Bar.qs\",\"message\":\"No identifier with the name \\\"Messag\\\" exists.\"}],\"NewDeclarations\":null,\"Sources\":{\"file:///C:/SNIPPET.Bar.qs\":\"namespace SNIPPET { open Microsoft.Quantum.Intrinsic; open Microsoft.Quantum.Canon;\\nfunction Bar() : Unit {\\r\\n    Messag(\\\"42\\\");\\r\\n}\\n}\",\"file:///C:/SNIPPET.UseOldSyntax.qs\":\"namespace SNIPPET { open Microsoft.Quantum.Intrinsic; open Microsoft.Quantum.Canon;\\noperation UseOldSyntax() : Unit {\\r\\n    using (q = Qubit()) {\\r\\n    \\r\\n    }\\r\\n}\\n}\",\"file:///C:/SNIPPET.Foo.qs\":\"namespace SNIPPET { open Microsoft.Quantum.Intrinsic; open Microsoft.Quantum.Canon;\\nfunction Foo() : Unit {\\r\\n    Message(\\\"42\\\");\\r\\n}\\n}\"}}}]}",
      "text/html": [
       "<pre>true</pre><hr>\n",
       "<pre>false</pre><hr>\n",
       "\r\n",
       "                    <h4>Errors and warnings:</h4>\r\n",
       "                    <ul>\r\n",
       "                    \r\n",
       "                <details open>\r\n",
       "                    <summary>\r\n",
       "                        <strong>error QS5022:</strong>\r\n",
       "                        No identifier with the name \"Messag\" exists.\r\n",
       "                    </summary>\r\n",
       "                    \r\n",
       "                    <pre><code>function Bar() : Unit {\n",
       "    <span style=\"font-weight: bold; text-decoration: underline wavy red;\">Messag</span>(\"42\");\n",
       "}</code></pre>\r\n",
       "                \r\n",
       "                    \r\n",
       "                </details>\r\n",
       "            \r\n",
       "                    </ul>\r\n",
       "                "
      ],
      "text/plain": [
       "AggregateResults { Results = System.Collections.Generic.List`1[Microsoft.Jupyter.Core.ExecutionResult] }"
      ]
     },
     "execution_count": 4,
     "metadata": {},
     "output_type": "execute_result"
    }
   ],
   "source": [
    "%config core.expandErrorMessages = true\n",
    "%config core.showHints = false\n",
    "\n",
    "function Bar() : Unit {\n",
    "    Messag(\"42\");\n",
    "}"
   ]
  },
  {
   "cell_type": "code",
   "execution_count": 5,
   "id": "characteristic-potato",
   "metadata": {},
   "outputs": [
    {
     "data": {
      "application/x-qsharp-data": "{\"Results\":[{\"Status\":\"ok\",\"Output\":\"false\"},{\"Status\":\"error\",\"Output\":{\"Diagnostics\":[{\"range\":{\"start\":{\"line\":1,\"character\":4},\"end\":{\"line\":1,\"character\":10}},\"severity\":1,\"code\":\"QS5022\",\"source\":\"C:\\\\SNIPPET.Bar.qs\",\"message\":\"No identifier with the name \\\"Messag\\\" exists.\"}],\"NewDeclarations\":null,\"Sources\":{\"file:///C:/SNIPPET.Bar.qs\":\"namespace SNIPPET { open Microsoft.Quantum.Intrinsic; open Microsoft.Quantum.Canon;\\nfunction Bar() : Unit {\\r\\n    Messag(\\\"42\\\");\\r\\n}\\n}\",\"file:///C:/SNIPPET.UseOldSyntax.qs\":\"namespace SNIPPET { open Microsoft.Quantum.Intrinsic; open Microsoft.Quantum.Canon;\\noperation UseOldSyntax() : Unit {\\r\\n    using (q = Qubit()) {\\r\\n    \\r\\n    }\\r\\n}\\n}\",\"file:///C:/SNIPPET.Foo.qs\":\"namespace SNIPPET { open Microsoft.Quantum.Intrinsic; open Microsoft.Quantum.Canon;\\nfunction Foo() : Unit {\\r\\n    Message(\\\"42\\\");\\r\\n}\\n}\"}}}]}",
      "text/html": [
       "<pre>false</pre><hr>\n",
       "\r\n",
       "                    <h4>Errors and warnings:</h4>\r\n",
       "                    <ul>\r\n",
       "                    \r\n",
       "                <details>\r\n",
       "                    <summary>\r\n",
       "                        <strong>error QS5022:</strong>\r\n",
       "                        No identifier with the name \"Messag\" exists.\r\n",
       "                    </summary>\r\n",
       "                    \r\n",
       "                    <pre><code>function Bar() : Unit {\n",
       "    <span style=\"font-weight: bold; text-decoration: underline wavy red;\">Messag</span>(\"42\");\n",
       "}</code></pre>\r\n",
       "                \r\n",
       "                    \r\n",
       "                </details>\r\n",
       "            \r\n",
       "                    </ul>\r\n",
       "                "
      ],
      "text/plain": [
       "AggregateResults { Results = System.Collections.Generic.List`1[Microsoft.Jupyter.Core.ExecutionResult] }"
      ]
     },
     "execution_count": 5,
     "metadata": {},
     "output_type": "execute_result"
    }
   ],
   "source": [
    "%config core.expandErrorMessages = false\n",
    "\n",
    "function Bar() : Unit {\n",
    "    Messag(\"42\");\n",
    "}"
   ]
  },
  {
   "cell_type": "code",
   "execution_count": null,
   "id": "ruled-polls",
   "metadata": {},
   "outputs": [],
   "source": [
    "%show Foo\n",
    "%show Baz.Bar"
   ]
  },
  {
   "cell_type": "code",
   "execution_count": null,
   "id": "russian-aside",
   "metadata": {},
   "outputs": [],
   "source": [
    "%who"
   ]
  },
  {
   "cell_type": "code",
   "execution_count": null,
   "id": "dental-happening",
   "metadata": {},
   "outputs": [],
   "source": []
  }
 ],
 "metadata": {
  "kernelspec": {
   "display_name": "Q#",
   "language": "qsharp",
   "name": "iqsharp"
  },
  "language_info": {
   "file_extension": ".qs",
   "mimetype": "text/x-qsharp",
   "name": "qsharp",
   "version": "0.14"
  }
 },
 "nbformat": 4,
 "nbformat_minor": 5
}
